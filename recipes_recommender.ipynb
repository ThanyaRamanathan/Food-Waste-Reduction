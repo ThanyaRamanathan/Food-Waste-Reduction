{
 "cells": [
  {
   "cell_type": "code",
   "execution_count": 1,
   "metadata": {},
   "outputs": [],
   "source": [
    "import pandas as pd\n",
    "import numpy as np\n",
    "import heapq\n",
    "from math import floor"
   ]
  },
  {
   "cell_type": "code",
   "execution_count": 2,
   "metadata": {},
   "outputs": [],
   "source": [
    "from surprise import Reader, Dataset\n",
    "from surprise import KNNWithMeans"
   ]
  },
  {
   "cell_type": "code",
   "execution_count": 3,
   "metadata": {},
   "outputs": [],
   "source": [
    "recipes_df = pd.read_csv('rr-recipes.csv')\n",
    "users_df = pd.read_csv('rr-users.csv')\n",
    "master_ratings_df = pd.read_csv('rr-ratings.csv')"
   ]
  },
  {
   "cell_type": "code",
   "execution_count": 4,
   "metadata": {},
   "outputs": [
    {
     "data": {
      "text/plain": [
       "Index(['recipe_id', 'title', 'prep_time', 'cook_time', 'ready_time',\n",
       "       'ingredients', 'directions', 'url', 'photo_url'],\n",
       "      dtype='object')"
      ]
     },
     "execution_count": 4,
     "metadata": {},
     "output_type": "execute_result"
    }
   ],
   "source": [
    "recipes_df.columns"
   ]
  },
  {
   "cell_type": "code",
   "execution_count": 5,
   "metadata": {},
   "outputs": [
    {
     "data": {
      "text/html": [
       "<div>\n",
       "<style scoped>\n",
       "    .dataframe tbody tr th:only-of-type {\n",
       "        vertical-align: middle;\n",
       "    }\n",
       "\n",
       "    .dataframe tbody tr th {\n",
       "        vertical-align: top;\n",
       "    }\n",
       "\n",
       "    .dataframe thead th {\n",
       "        text-align: right;\n",
       "    }\n",
       "</style>\n",
       "<table border=\"1\" class=\"dataframe\">\n",
       "  <thead>\n",
       "    <tr style=\"text-align: right;\">\n",
       "      <th></th>\n",
       "      <th>recipe_id</th>\n",
       "      <th>title</th>\n",
       "      <th>prep_time</th>\n",
       "      <th>cook_time</th>\n",
       "      <th>ready_time</th>\n",
       "      <th>ingredients</th>\n",
       "      <th>directions</th>\n",
       "      <th>url</th>\n",
       "      <th>photo_url</th>\n",
       "    </tr>\n",
       "  </thead>\n",
       "  <tbody>\n",
       "    <tr>\n",
       "      <th>0</th>\n",
       "      <td>7000</td>\n",
       "      <td>Golden Crescent Rolls Recipe</td>\n",
       "      <td>25</td>\n",
       "      <td>15</td>\n",
       "      <td>190</td>\n",
       "      <td>yeast,water,white sugar,salt,egg,butter,flour,...</td>\n",
       "      <td>Dissolve yeast in warm water.**Stir in sugar, ...</td>\n",
       "      <td>https://www.allrecipes.com/recipe/7000</td>\n",
       "      <td>https://images.media-allrecipes.com/userphotos...</td>\n",
       "    </tr>\n",
       "    <tr>\n",
       "      <th>1</th>\n",
       "      <td>7001</td>\n",
       "      <td>Poppy Seed Bread with Glaze Recipe</td>\n",
       "      <td>15</td>\n",
       "      <td>60</td>\n",
       "      <td>80</td>\n",
       "      <td>flour,salt,baking powder,poppy,butter,vegetabl...</td>\n",
       "      <td>'Preheat oven to 350 degrees F (175 degrees C)...</td>\n",
       "      <td>https://www.allrecipes.com/recipe/7001</td>\n",
       "      <td>https://images.media-allrecipes.com/userphotos...</td>\n",
       "    </tr>\n",
       "    <tr>\n",
       "      <th>2</th>\n",
       "      <td>7003</td>\n",
       "      <td>Applesauce Bread I Recipe</td>\n",
       "      <td>10</td>\n",
       "      <td>80</td>\n",
       "      <td>90</td>\n",
       "      <td>flour,egg,white sugar,vegetable oil,applesauce...</td>\n",
       "      <td>Preheat oven to 350 degrees F (175 degrees C)....</td>\n",
       "      <td>https://www.allrecipes.com/recipe/7003</td>\n",
       "      <td>https://images.media-allrecipes.com/userphotos...</td>\n",
       "    </tr>\n",
       "    <tr>\n",
       "      <th>3</th>\n",
       "      <td>7006</td>\n",
       "      <td>Apple Raisin Bread Recipe</td>\n",
       "      <td>15</td>\n",
       "      <td>60</td>\n",
       "      <td>75</td>\n",
       "      <td>flour,baking powder,baking soda,salt,cinnamon,...</td>\n",
       "      <td>Preheat oven to 350 degrees F (175 degrees C)....</td>\n",
       "      <td>https://www.allrecipes.com/recipe/7006</td>\n",
       "      <td>https://images.media-allrecipes.com/userphotos...</td>\n",
       "    </tr>\n",
       "    <tr>\n",
       "      <th>4</th>\n",
       "      <td>7007</td>\n",
       "      <td>Buttermilk Oatmeal Bread Recipe</td>\n",
       "      <td>20</td>\n",
       "      <td>60</td>\n",
       "      <td>100</td>\n",
       "      <td>oat,buttermilk,vegetable oil,egg,brown sugar,f...</td>\n",
       "      <td>Mix oats with buttermilk.  Let stand for 1/2 h...</td>\n",
       "      <td>https://www.allrecipes.com/recipe/7007</td>\n",
       "      <td>https://images.media-allrecipes.com/userphotos...</td>\n",
       "    </tr>\n",
       "  </tbody>\n",
       "</table>\n",
       "</div>"
      ],
      "text/plain": [
       "   recipe_id                               title  prep_time  cook_time  \\\n",
       "0       7000        Golden Crescent Rolls Recipe         25         15   \n",
       "1       7001  Poppy Seed Bread with Glaze Recipe         15         60   \n",
       "2       7003           Applesauce Bread I Recipe         10         80   \n",
       "3       7006           Apple Raisin Bread Recipe         15         60   \n",
       "4       7007     Buttermilk Oatmeal Bread Recipe         20         60   \n",
       "\n",
       "   ready_time                                        ingredients  \\\n",
       "0         190  yeast,water,white sugar,salt,egg,butter,flour,...   \n",
       "1          80  flour,salt,baking powder,poppy,butter,vegetabl...   \n",
       "2          90  flour,egg,white sugar,vegetable oil,applesauce...   \n",
       "3          75  flour,baking powder,baking soda,salt,cinnamon,...   \n",
       "4         100  oat,buttermilk,vegetable oil,egg,brown sugar,f...   \n",
       "\n",
       "                                          directions  \\\n",
       "0  Dissolve yeast in warm water.**Stir in sugar, ...   \n",
       "1  'Preheat oven to 350 degrees F (175 degrees C)...   \n",
       "2  Preheat oven to 350 degrees F (175 degrees C)....   \n",
       "3  Preheat oven to 350 degrees F (175 degrees C)....   \n",
       "4  Mix oats with buttermilk.  Let stand for 1/2 h...   \n",
       "\n",
       "                                      url  \\\n",
       "0  https://www.allrecipes.com/recipe/7000   \n",
       "1  https://www.allrecipes.com/recipe/7001   \n",
       "2  https://www.allrecipes.com/recipe/7003   \n",
       "3  https://www.allrecipes.com/recipe/7006   \n",
       "4  https://www.allrecipes.com/recipe/7007   \n",
       "\n",
       "                                           photo_url  \n",
       "0  https://images.media-allrecipes.com/userphotos...  \n",
       "1  https://images.media-allrecipes.com/userphotos...  \n",
       "2  https://images.media-allrecipes.com/userphotos...  \n",
       "3  https://images.media-allrecipes.com/userphotos...  \n",
       "4  https://images.media-allrecipes.com/userphotos...  "
      ]
     },
     "execution_count": 5,
     "metadata": {},
     "output_type": "execute_result"
    }
   ],
   "source": [
    "recipes_df.head()"
   ]
  },
  {
   "cell_type": "code",
   "execution_count": 6,
   "metadata": {},
   "outputs": [
    {
     "data": {
      "text/html": [
       "<div>\n",
       "<style scoped>\n",
       "    .dataframe tbody tr th:only-of-type {\n",
       "        vertical-align: middle;\n",
       "    }\n",
       "\n",
       "    .dataframe tbody tr th {\n",
       "        vertical-align: top;\n",
       "    }\n",
       "\n",
       "    .dataframe thead th {\n",
       "        text-align: right;\n",
       "    }\n",
       "</style>\n",
       "<table border=\"1\" class=\"dataframe\">\n",
       "  <thead>\n",
       "    <tr style=\"text-align: right;\">\n",
       "      <th></th>\n",
       "      <th>Unnamed: 0</th>\n",
       "      <th>user_id</th>\n",
       "      <th>AR_id</th>\n",
       "      <th>link</th>\n",
       "    </tr>\n",
       "  </thead>\n",
       "  <tbody>\n",
       "    <tr>\n",
       "      <th>0</th>\n",
       "      <td>0</td>\n",
       "      <td>1</td>\n",
       "      <td>naples34102</td>\n",
       "      <td>https://www.allrecipes.com/cook/naples34102</td>\n",
       "    </tr>\n",
       "    <tr>\n",
       "      <th>1</th>\n",
       "      <td>1</td>\n",
       "      <td>2</td>\n",
       "      <td>1207425</td>\n",
       "      <td>https://www.allrecipes.com/cook/1207425</td>\n",
       "    </tr>\n",
       "    <tr>\n",
       "      <th>2</th>\n",
       "      <td>2</td>\n",
       "      <td>3</td>\n",
       "      <td>183259</td>\n",
       "      <td>https://www.allrecipes.com/cook/183259</td>\n",
       "    </tr>\n",
       "    <tr>\n",
       "      <th>3</th>\n",
       "      <td>3</td>\n",
       "      <td>4</td>\n",
       "      <td>162514</td>\n",
       "      <td>https://www.allrecipes.com/cook/162514</td>\n",
       "    </tr>\n",
       "    <tr>\n",
       "      <th>4</th>\n",
       "      <td>4</td>\n",
       "      <td>5</td>\n",
       "      <td>1159515</td>\n",
       "      <td>https://www.allrecipes.com/cook/1159515</td>\n",
       "    </tr>\n",
       "  </tbody>\n",
       "</table>\n",
       "</div>"
      ],
      "text/plain": [
       "   Unnamed: 0  user_id        AR_id  \\\n",
       "0           0        1  naples34102   \n",
       "1           1        2      1207425   \n",
       "2           2        3       183259   \n",
       "3           3        4       162514   \n",
       "4           4        5      1159515   \n",
       "\n",
       "                                          link  \n",
       "0  https://www.allrecipes.com/cook/naples34102  \n",
       "1      https://www.allrecipes.com/cook/1207425  \n",
       "2       https://www.allrecipes.com/cook/183259  \n",
       "3       https://www.allrecipes.com/cook/162514  \n",
       "4      https://www.allrecipes.com/cook/1159515  "
      ]
     },
     "execution_count": 6,
     "metadata": {},
     "output_type": "execute_result"
    }
   ],
   "source": [
    "users_df.head()"
   ]
  },
  {
   "cell_type": "code",
   "execution_count": 7,
   "metadata": {},
   "outputs": [
    {
     "data": {
      "text/html": [
       "<div>\n",
       "<style scoped>\n",
       "    .dataframe tbody tr th:only-of-type {\n",
       "        vertical-align: middle;\n",
       "    }\n",
       "\n",
       "    .dataframe tbody tr th {\n",
       "        vertical-align: top;\n",
       "    }\n",
       "\n",
       "    .dataframe thead th {\n",
       "        text-align: right;\n",
       "    }\n",
       "</style>\n",
       "<table border=\"1\" class=\"dataframe\">\n",
       "  <thead>\n",
       "    <tr style=\"text-align: right;\">\n",
       "      <th></th>\n",
       "      <th>user</th>\n",
       "      <th>item</th>\n",
       "      <th>rating</th>\n",
       "    </tr>\n",
       "  </thead>\n",
       "  <tbody>\n",
       "    <tr>\n",
       "      <th>0</th>\n",
       "      <td>675719</td>\n",
       "      <td>7000</td>\n",
       "      <td>5</td>\n",
       "    </tr>\n",
       "    <tr>\n",
       "      <th>1</th>\n",
       "      <td>1478626</td>\n",
       "      <td>7000</td>\n",
       "      <td>5</td>\n",
       "    </tr>\n",
       "    <tr>\n",
       "      <th>2</th>\n",
       "      <td>608663</td>\n",
       "      <td>7000</td>\n",
       "      <td>5</td>\n",
       "    </tr>\n",
       "    <tr>\n",
       "      <th>3</th>\n",
       "      <td>2785736</td>\n",
       "      <td>7000</td>\n",
       "      <td>5</td>\n",
       "    </tr>\n",
       "    <tr>\n",
       "      <th>4</th>\n",
       "      <td>594474</td>\n",
       "      <td>7000</td>\n",
       "      <td>5</td>\n",
       "    </tr>\n",
       "  </tbody>\n",
       "</table>\n",
       "</div>"
      ],
      "text/plain": [
       "      user  item  rating\n",
       "0   675719  7000       5\n",
       "1  1478626  7000       5\n",
       "2   608663  7000       5\n",
       "3  2785736  7000       5\n",
       "4   594474  7000       5"
      ]
     },
     "execution_count": 7,
     "metadata": {},
     "output_type": "execute_result"
    }
   ],
   "source": [
    "master_ratings_df.head()"
   ]
  },
  {
   "cell_type": "code",
   "execution_count": 8,
   "metadata": {},
   "outputs": [],
   "source": [
    "ratings_df = master_ratings_df.copy()\n",
    "ratings_df.columns = ['user', 'item', 'rating']"
   ]
  },
  {
   "cell_type": "code",
   "execution_count": 9,
   "metadata": {},
   "outputs": [
    {
     "data": {
      "text/plain": [
       "2043209     1177\n",
       "268713       949\n",
       "1153011      922\n",
       "303790       746\n",
       "379190       721\n",
       "            ... \n",
       "3823917        1\n",
       "7182005        1\n",
       "16423221       1\n",
       "5959992        1\n",
       "1599757        1\n",
       "Name: user, Length: 618190, dtype: int64"
      ]
     },
     "execution_count": 9,
     "metadata": {},
     "output_type": "execute_result"
    }
   ],
   "source": [
    "ratings_df['user'].value_counts()"
   ]
  },
  {
   "cell_type": "code",
   "execution_count": 10,
   "metadata": {},
   "outputs": [
    {
     "data": {
      "text/html": [
       "<div>\n",
       "<style scoped>\n",
       "    .dataframe tbody tr th:only-of-type {\n",
       "        vertical-align: middle;\n",
       "    }\n",
       "\n",
       "    .dataframe tbody tr th {\n",
       "        vertical-align: top;\n",
       "    }\n",
       "\n",
       "    .dataframe thead th {\n",
       "        text-align: right;\n",
       "    }\n",
       "</style>\n",
       "<table border=\"1\" class=\"dataframe\">\n",
       "  <thead>\n",
       "    <tr style=\"text-align: right;\">\n",
       "      <th></th>\n",
       "      <th>user</th>\n",
       "      <th>item</th>\n",
       "      <th>rating</th>\n",
       "    </tr>\n",
       "  </thead>\n",
       "  <tbody>\n",
       "    <tr>\n",
       "      <th>0</th>\n",
       "      <td>675719</td>\n",
       "      <td>7000</td>\n",
       "      <td>5</td>\n",
       "    </tr>\n",
       "    <tr>\n",
       "      <th>1</th>\n",
       "      <td>1478626</td>\n",
       "      <td>7000</td>\n",
       "      <td>5</td>\n",
       "    </tr>\n",
       "    <tr>\n",
       "      <th>2</th>\n",
       "      <td>608663</td>\n",
       "      <td>7000</td>\n",
       "      <td>5</td>\n",
       "    </tr>\n",
       "    <tr>\n",
       "      <th>3</th>\n",
       "      <td>2785736</td>\n",
       "      <td>7000</td>\n",
       "      <td>5</td>\n",
       "    </tr>\n",
       "    <tr>\n",
       "      <th>4</th>\n",
       "      <td>594474</td>\n",
       "      <td>7000</td>\n",
       "      <td>5</td>\n",
       "    </tr>\n",
       "  </tbody>\n",
       "</table>\n",
       "</div>"
      ],
      "text/plain": [
       "      user  item  rating\n",
       "0   675719  7000       5\n",
       "1  1478626  7000       5\n",
       "2   608663  7000       5\n",
       "3  2785736  7000       5\n",
       "4   594474  7000       5"
      ]
     },
     "execution_count": 10,
     "metadata": {},
     "output_type": "execute_result"
    }
   ],
   "source": [
    "ratings_df.head()"
   ]
  },
  {
   "cell_type": "code",
   "execution_count": 11,
   "metadata": {},
   "outputs": [
    {
     "data": {
      "text/plain": [
       "user      item   rating\n",
       "24896382  24956  5         1\n",
       "1540603   20242  5         1\n",
       "          8890   5         1\n",
       "          10574  4         1\n",
       "          13571  4         1\n",
       "                          ..\n",
       "3874630   14533  5         1\n",
       "          20038  5         1\n",
       "          23788  5         1\n",
       "          24566  5         1\n",
       "16        7375   5         1\n",
       "Length: 1555581, dtype: int64"
      ]
     },
     "execution_count": 11,
     "metadata": {},
     "output_type": "execute_result"
    }
   ],
   "source": [
    "ratings_df.value_counts()"
   ]
  },
  {
   "cell_type": "code",
   "execution_count": 12,
   "metadata": {},
   "outputs": [],
   "source": [
    "#ratings_df.drop_duplicates(subset =[\"user\",\"item\"],keep = \"first\", inplace = True)"
   ]
  },
  {
   "cell_type": "code",
   "execution_count": 13,
   "metadata": {},
   "outputs": [],
   "source": [
    "reader = Reader(rating_scale=(1,5)) # This just defines the rating scale\n",
    "data = Dataset.load_from_df(ratings_df[['user', 'item', 'rating']], reader=reader)"
   ]
  },
  {
   "cell_type": "code",
   "execution_count": 14,
   "metadata": {},
   "outputs": [],
   "source": [
    "def build_recommender(user_based=False, sim_type='cosine'):\n",
    "    sim_options = {\n",
    "        \"name\": sim_type,\n",
    "        \"user_based\": user_based\n",
    "    }\n",
    "\n",
    "    return KNNWithMeans(sim_options=sim_options)"
   ]
  },
  {
   "cell_type": "code",
   "execution_count": 15,
   "metadata": {},
   "outputs": [
    {
     "name": "stdout",
     "output_type": "stream",
     "text": [
      "Computing the cosine similarity matrix...\n",
      "Done computing similarity matrix.\n"
     ]
    },
    {
     "data": {
      "text/plain": [
       "<surprise.prediction_algorithms.knns.KNNWithMeans at 0x10a0f2f70>"
      ]
     },
     "execution_count": 15,
     "metadata": {},
     "output_type": "execute_result"
    }
   ],
   "source": [
    "trainset = data.build_full_trainset()\n",
    "\n",
    "# user_based_recommender = build_recommender(user_based=True)\n",
    "item_based_recommender = build_recommender()\n",
    "\n",
    "# User based seems to give a memory error when fit, due to the much larger amount of users than recipes.\n",
    "# user_based_recommender.fit(trainset)\n",
    "item_based_recommender.fit(trainset)"
   ]
  },
  {
   "cell_type": "code",
   "execution_count": 16,
   "metadata": {},
   "outputs": [
    {
     "name": "stdout",
     "output_type": "stream",
     "text": [
      "4.51, 4.51, 4.51, 4.51, 4.51, 4.51, 4.51, 4.51, 4.51, 4.51, 4.51, 4.51, 4.51, 4.51, 4.51, 4.51, 4.51, 4.51, 4.51, 4.51, 4.51, 4.51, 4.51, 4.51, 4.51, 4.51, 4.51, 4.51, 4.51, 4.51, 4.51, 4.51, 4.51, 4.51, 4.51, 4.51, 4.51, 4.51, 4.51, 4.51, 4.51, 4.51, 4.51, 4.51, 4.51, 4.51, 4.51, 4.51, 4.51, 4.51, 4.51, 4.51, 4.51, 4.51, 4.51, 4.51, 4.51, 4.51, 4.51, 4.51, 4.51, 4.51, 4.51, 4.51, 4.51, 4.51, 4.51, 4.51, 4.51, 4.51, 4.51, 4.51, 4.51, 4.51, 4.51, 4.51, 4.51, 4.51, 4.51, 4.51, 4.51, 4.51, 4.51, 4.51, 4.51, 4.51, 4.51, 4.51, 4.51, 4.51, 4.51, 4.51, 4.51, 4.51, 4.51, 4.51, 4.51, 4.51, 4.51, 4.51, 4.51, 4.51, 4.51, 4.51, 4.51, 4.51, 4.51, 4.51, 4.51, 4.51, 4.51, 4.51, 4.51, 4.51, 4.51, 4.51, 4.51, 4.51, 4.51, 4.51, 4.51, 4.51, 4.51, 4.51, 4.51, 4.51, 4.51, 4.51, 4.51, 4.51, 4.51, 4.51, 4.51, 4.51, 4.51, 4.51, 4.51, 4.51, 4.51, 4.51, 4.51, 4.51, 4.51, 4.51, 4.51, 4.51, 4.51, 4.51, 4.51, 4.51, "
     ]
    }
   ],
   "source": [
    "i = 1\n",
    "for i in range(150):\n",
    "    prediction = item_based_recommender.predict(i,167)\n",
    "    print(round(prediction.est,2), end=', ')\n",
    "    i = i + 1"
   ]
  },
  {
   "cell_type": "code",
   "execution_count": 17,
   "metadata": {},
   "outputs": [],
   "source": [
    "def get_r(user_id):\n",
    "    recommender_system = item_based_recommender\n",
    "    N = 200\n",
    "    rated_items = list(set(ratings_df.loc[ratings_df['user'] == user_id]['item'].tolist()))\n",
    "    all_item_ids = list(set(ratings_df['item'].tolist()))\n",
    "    new_items = [x for x in all_item_ids if x not in rated_items]\n",
    "\n",
    "    predicted_ratings = {}\n",
    "    for item_id in new_items:\n",
    "        predicted_ratings[item_id] = recommender_system.predict(user_id, item_id).est\n",
    "        pass\n",
    "\n",
    "    recommended_ids = heapq.nlargest(N, predicted_ratings, key=predicted_ratings.get)\n",
    "    recommended_ids = sorted(recommended_ids)\n",
    "\n",
    "    recommended_df = recipes_df.loc[recipes_df['recipe_id'].isin(recommended_ids)].copy()\n",
    "    recommended_df.set_index('recipe_id', inplace=True)\n",
    "    recommended_df.insert(1, 'pred_rating', np.zeros(len(recommended_ids)))\n",
    "\n",
    "    for idx,item_id in enumerate(recommended_ids):\n",
    "        recommended_df.iloc[idx, recommended_df.columns.get_loc('pred_rating')] =predicted_ratings[item_id]\n",
    "        pass\n",
    "\n",
    "    return recommended_df.head(N).sort_values('pred_rating', ascending=False)"
   ]
  },
  {
   "cell_type": "code",
   "execution_count": 18,
   "metadata": {},
   "outputs": [
    {
     "name": "stdin",
     "output_type": "stream",
     "text": [
      "Enter user id:  1478626\n",
      "Enter the ingredients separated by commas that you have on hand:  chocolate\n",
      "Enter the lowest rating you'll accept:  3\n"
     ]
    },
    {
     "ename": "IndexError",
     "evalue": "single positional indexer is out-of-bounds",
     "output_type": "error",
     "traceback": [
      "\u001b[0;31m---------------------------------------------------------------------------\u001b[0m",
      "\u001b[0;31mIndexError\u001b[0m                                Traceback (most recent call last)",
      "\u001b[0;32m<ipython-input-18-1df48388516e>\u001b[0m in \u001b[0;36m<module>\u001b[0;34m\u001b[0m\n\u001b[1;32m     12\u001b[0m \u001b[0muser_name\u001b[0m \u001b[0;34m=\u001b[0m \u001b[0musers_df\u001b[0m\u001b[0;34m.\u001b[0m\u001b[0mloc\u001b[0m\u001b[0;34m[\u001b[0m\u001b[0musers_df\u001b[0m\u001b[0;34m[\u001b[0m\u001b[0;34m'user_id'\u001b[0m\u001b[0;34m]\u001b[0m \u001b[0;34m==\u001b[0m \u001b[0muser_id\u001b[0m\u001b[0;34m]\u001b[0m\u001b[0;34m\u001b[0m\u001b[0;34m\u001b[0m\u001b[0m\n\u001b[1;32m     13\u001b[0m \u001b[0;34m\u001b[0m\u001b[0m\n\u001b[0;32m---> 14\u001b[0;31m \u001b[0mprint\u001b[0m\u001b[0;34m(\u001b[0m\u001b[0;34m'\\nuser: '\u001b[0m\u001b[0;34m,\u001b[0m\u001b[0muser_name\u001b[0m\u001b[0;34m.\u001b[0m\u001b[0miloc\u001b[0m\u001b[0;34m[\u001b[0m\u001b[0;36m0\u001b[0m\u001b[0;34m,\u001b[0m\u001b[0;36m1\u001b[0m\u001b[0;34m]\u001b[0m\u001b[0;34m)\u001b[0m\u001b[0;34m\u001b[0m\u001b[0;34m\u001b[0m\u001b[0m\n\u001b[0m\u001b[1;32m     15\u001b[0m \u001b[0mprint\u001b[0m\u001b[0;34m(\u001b[0m\u001b[0mingredient_list\u001b[0m\u001b[0;34m)\u001b[0m\u001b[0;34m\u001b[0m\u001b[0;34m\u001b[0m\u001b[0m\n\u001b[1;32m     16\u001b[0m \u001b[0mprint\u001b[0m\u001b[0;34m(\u001b[0m\u001b[0;34m'\\nHere are your recommendations.'\u001b[0m\u001b[0;34m)\u001b[0m\u001b[0;34m\u001b[0m\u001b[0;34m\u001b[0m\u001b[0m\n",
      "\u001b[0;32m/opt/anaconda3/lib/python3.8/site-packages/pandas/core/indexing.py\u001b[0m in \u001b[0;36m__getitem__\u001b[0;34m(self, key)\u001b[0m\n\u001b[1;32m    871\u001b[0m                     \u001b[0;31m# AttributeError for IntervalTree get_value\u001b[0m\u001b[0;34m\u001b[0m\u001b[0;34m\u001b[0m\u001b[0;34m\u001b[0m\u001b[0m\n\u001b[1;32m    872\u001b[0m                     \u001b[0;32mpass\u001b[0m\u001b[0;34m\u001b[0m\u001b[0;34m\u001b[0m\u001b[0m\n\u001b[0;32m--> 873\u001b[0;31m             \u001b[0;32mreturn\u001b[0m \u001b[0mself\u001b[0m\u001b[0;34m.\u001b[0m\u001b[0m_getitem_tuple\u001b[0m\u001b[0;34m(\u001b[0m\u001b[0mkey\u001b[0m\u001b[0;34m)\u001b[0m\u001b[0;34m\u001b[0m\u001b[0;34m\u001b[0m\u001b[0m\n\u001b[0m\u001b[1;32m    874\u001b[0m         \u001b[0;32melse\u001b[0m\u001b[0;34m:\u001b[0m\u001b[0;34m\u001b[0m\u001b[0;34m\u001b[0m\u001b[0m\n\u001b[1;32m    875\u001b[0m             \u001b[0;31m# we by definition only have the 0th axis\u001b[0m\u001b[0;34m\u001b[0m\u001b[0;34m\u001b[0m\u001b[0;34m\u001b[0m\u001b[0m\n",
      "\u001b[0;32m/opt/anaconda3/lib/python3.8/site-packages/pandas/core/indexing.py\u001b[0m in \u001b[0;36m_getitem_tuple\u001b[0;34m(self, tup)\u001b[0m\n\u001b[1;32m   1441\u001b[0m     \u001b[0;32mdef\u001b[0m \u001b[0m_getitem_tuple\u001b[0m\u001b[0;34m(\u001b[0m\u001b[0mself\u001b[0m\u001b[0;34m,\u001b[0m \u001b[0mtup\u001b[0m\u001b[0;34m:\u001b[0m \u001b[0mTuple\u001b[0m\u001b[0;34m)\u001b[0m\u001b[0;34m:\u001b[0m\u001b[0;34m\u001b[0m\u001b[0;34m\u001b[0m\u001b[0m\n\u001b[1;32m   1442\u001b[0m \u001b[0;34m\u001b[0m\u001b[0m\n\u001b[0;32m-> 1443\u001b[0;31m         \u001b[0mself\u001b[0m\u001b[0;34m.\u001b[0m\u001b[0m_has_valid_tuple\u001b[0m\u001b[0;34m(\u001b[0m\u001b[0mtup\u001b[0m\u001b[0;34m)\u001b[0m\u001b[0;34m\u001b[0m\u001b[0;34m\u001b[0m\u001b[0m\n\u001b[0m\u001b[1;32m   1444\u001b[0m         \u001b[0;32mtry\u001b[0m\u001b[0;34m:\u001b[0m\u001b[0;34m\u001b[0m\u001b[0;34m\u001b[0m\u001b[0m\n\u001b[1;32m   1445\u001b[0m             \u001b[0;32mreturn\u001b[0m \u001b[0mself\u001b[0m\u001b[0;34m.\u001b[0m\u001b[0m_getitem_lowerdim\u001b[0m\u001b[0;34m(\u001b[0m\u001b[0mtup\u001b[0m\u001b[0;34m)\u001b[0m\u001b[0;34m\u001b[0m\u001b[0;34m\u001b[0m\u001b[0m\n",
      "\u001b[0;32m/opt/anaconda3/lib/python3.8/site-packages/pandas/core/indexing.py\u001b[0m in \u001b[0;36m_has_valid_tuple\u001b[0;34m(self, key)\u001b[0m\n\u001b[1;32m    700\u001b[0m                 \u001b[0;32mraise\u001b[0m \u001b[0mIndexingError\u001b[0m\u001b[0;34m(\u001b[0m\u001b[0;34m\"Too many indexers\"\u001b[0m\u001b[0;34m)\u001b[0m\u001b[0;34m\u001b[0m\u001b[0;34m\u001b[0m\u001b[0m\n\u001b[1;32m    701\u001b[0m             \u001b[0;32mtry\u001b[0m\u001b[0;34m:\u001b[0m\u001b[0;34m\u001b[0m\u001b[0;34m\u001b[0m\u001b[0m\n\u001b[0;32m--> 702\u001b[0;31m                 \u001b[0mself\u001b[0m\u001b[0;34m.\u001b[0m\u001b[0m_validate_key\u001b[0m\u001b[0;34m(\u001b[0m\u001b[0mk\u001b[0m\u001b[0;34m,\u001b[0m \u001b[0mi\u001b[0m\u001b[0;34m)\u001b[0m\u001b[0;34m\u001b[0m\u001b[0;34m\u001b[0m\u001b[0m\n\u001b[0m\u001b[1;32m    703\u001b[0m             \u001b[0;32mexcept\u001b[0m \u001b[0mValueError\u001b[0m \u001b[0;32mas\u001b[0m \u001b[0merr\u001b[0m\u001b[0;34m:\u001b[0m\u001b[0;34m\u001b[0m\u001b[0;34m\u001b[0m\u001b[0m\n\u001b[1;32m    704\u001b[0m                 raise ValueError(\n",
      "\u001b[0;32m/opt/anaconda3/lib/python3.8/site-packages/pandas/core/indexing.py\u001b[0m in \u001b[0;36m_validate_key\u001b[0;34m(self, key, axis)\u001b[0m\n\u001b[1;32m   1350\u001b[0m             \u001b[0;32mreturn\u001b[0m\u001b[0;34m\u001b[0m\u001b[0;34m\u001b[0m\u001b[0m\n\u001b[1;32m   1351\u001b[0m         \u001b[0;32melif\u001b[0m \u001b[0mis_integer\u001b[0m\u001b[0;34m(\u001b[0m\u001b[0mkey\u001b[0m\u001b[0;34m)\u001b[0m\u001b[0;34m:\u001b[0m\u001b[0;34m\u001b[0m\u001b[0;34m\u001b[0m\u001b[0m\n\u001b[0;32m-> 1352\u001b[0;31m             \u001b[0mself\u001b[0m\u001b[0;34m.\u001b[0m\u001b[0m_validate_integer\u001b[0m\u001b[0;34m(\u001b[0m\u001b[0mkey\u001b[0m\u001b[0;34m,\u001b[0m \u001b[0maxis\u001b[0m\u001b[0;34m)\u001b[0m\u001b[0;34m\u001b[0m\u001b[0;34m\u001b[0m\u001b[0m\n\u001b[0m\u001b[1;32m   1353\u001b[0m         \u001b[0;32melif\u001b[0m \u001b[0misinstance\u001b[0m\u001b[0;34m(\u001b[0m\u001b[0mkey\u001b[0m\u001b[0;34m,\u001b[0m \u001b[0mtuple\u001b[0m\u001b[0;34m)\u001b[0m\u001b[0;34m:\u001b[0m\u001b[0;34m\u001b[0m\u001b[0;34m\u001b[0m\u001b[0m\n\u001b[1;32m   1354\u001b[0m             \u001b[0;31m# a tuple should already have been caught by this point\u001b[0m\u001b[0;34m\u001b[0m\u001b[0;34m\u001b[0m\u001b[0;34m\u001b[0m\u001b[0m\n",
      "\u001b[0;32m/opt/anaconda3/lib/python3.8/site-packages/pandas/core/indexing.py\u001b[0m in \u001b[0;36m_validate_integer\u001b[0;34m(self, key, axis)\u001b[0m\n\u001b[1;32m   1435\u001b[0m         \u001b[0mlen_axis\u001b[0m \u001b[0;34m=\u001b[0m \u001b[0mlen\u001b[0m\u001b[0;34m(\u001b[0m\u001b[0mself\u001b[0m\u001b[0;34m.\u001b[0m\u001b[0mobj\u001b[0m\u001b[0;34m.\u001b[0m\u001b[0m_get_axis\u001b[0m\u001b[0;34m(\u001b[0m\u001b[0maxis\u001b[0m\u001b[0;34m)\u001b[0m\u001b[0;34m)\u001b[0m\u001b[0;34m\u001b[0m\u001b[0;34m\u001b[0m\u001b[0m\n\u001b[1;32m   1436\u001b[0m         \u001b[0;32mif\u001b[0m \u001b[0mkey\u001b[0m \u001b[0;34m>=\u001b[0m \u001b[0mlen_axis\u001b[0m \u001b[0;32mor\u001b[0m \u001b[0mkey\u001b[0m \u001b[0;34m<\u001b[0m \u001b[0;34m-\u001b[0m\u001b[0mlen_axis\u001b[0m\u001b[0;34m:\u001b[0m\u001b[0;34m\u001b[0m\u001b[0;34m\u001b[0m\u001b[0m\n\u001b[0;32m-> 1437\u001b[0;31m             \u001b[0;32mraise\u001b[0m \u001b[0mIndexError\u001b[0m\u001b[0;34m(\u001b[0m\u001b[0;34m\"single positional indexer is out-of-bounds\"\u001b[0m\u001b[0;34m)\u001b[0m\u001b[0;34m\u001b[0m\u001b[0;34m\u001b[0m\u001b[0m\n\u001b[0m\u001b[1;32m   1438\u001b[0m \u001b[0;34m\u001b[0m\u001b[0m\n\u001b[1;32m   1439\u001b[0m     \u001b[0;31m# -------------------------------------------------------------------\u001b[0m\u001b[0;34m\u001b[0m\u001b[0;34m\u001b[0m\u001b[0;34m\u001b[0m\u001b[0m\n",
      "\u001b[0;31mIndexError\u001b[0m: single positional indexer is out-of-bounds"
     ]
    }
   ],
   "source": [
    "# ask the user for input\n",
    "# get their ID number\n",
    "user_id = int(input('Enter user id: '))\n",
    "\n",
    "# get them to list some ingredients, currently it breaks if the second or next ingredient is not there\n",
    "ingredient_list = input('Enter the ingredients separated by commas that you have on hand: ')\n",
    "\n",
    "items = np.array(ingredient_list.split(','))\n",
    "\n",
    "rating = int(input('Enter the lowest rating you\\'ll accept: '))\n",
    "\n",
    "user_name = users_df.loc[users_df['user_id'] == user_id]\n",
    "\n",
    "print('\\nuser: ',user_name.iloc[0,1])\n",
    "print(ingredient_list)\n",
    "print('\\nHere are your recommendations.')\n",
    "test = get_r(user_id)\n",
    "for item in items:\n",
    "    test = test[test['ingredients'].str.contains(item)]\n",
    "test = test[test['pred_rating'] >= rating]"
   ]
  },
  {
   "cell_type": "code",
   "execution_count": null,
   "metadata": {},
   "outputs": [],
   "source": [
    "rec_df = pd.read_csv('rr-recipes.csv')\n",
    "u_df = pd.read_csv('rr-users.csv')\n",
    "r_df = pd.read_csv('rr-ratings.csv')"
   ]
  },
  {
   "cell_type": "code",
   "execution_count": null,
   "metadata": {},
   "outputs": [],
   "source": [
    "a = 99\n",
    "r_df.loc[master_ratings_df['reviewer_id'] == a]"
   ]
  },
  {
   "cell_type": "code",
   "execution_count": null,
   "metadata": {},
   "outputs": [],
   "source": []
  }
 ],
 "metadata": {
  "file_extension": ".py",
  "kernelspec": {
   "display_name": "Python 3",
   "language": "python",
   "name": "python3"
  },
  "language_info": {
   "codemirror_mode": {
    "name": "ipython",
    "version": 3
   },
   "file_extension": ".py",
   "mimetype": "text/x-python",
   "name": "python",
   "nbconvert_exporter": "python",
   "pygments_lexer": "ipython3",
   "version": "3.8.5"
  },
  "mimetype": "text/x-python",
  "name": "python",
  "npconvert_exporter": "python",
  "pygments_lexer": "ipython3",
  "version": 3
 },
 "nbformat": 4,
 "nbformat_minor": 4
}
